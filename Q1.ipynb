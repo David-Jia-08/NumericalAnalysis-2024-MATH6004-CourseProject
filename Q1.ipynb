{
 "cells": [
  {
   "cell_type": "code",
   "metadata": {
    "ExecuteTime": {
     "end_time": "2025-01-01T07:58:58.229816Z",
     "start_time": "2025-01-01T07:58:58.072899Z"
    }
   },
   "source": [
    "import numpy as np\n",
    "import matplotlib as matplot"
   ],
   "outputs": [],
   "execution_count": 1
  },
  {
   "cell_type": "markdown",
   "metadata": {},
   "source": [
    "# Q.1"
   ]
  },
  {
   "cell_type": "code",
   "metadata": {
    "ExecuteTime": {
     "end_time": "2025-01-01T07:58:58.245840Z",
     "start_time": "2025-01-01T07:58:58.231816Z"
    }
   },
   "source": [
    "def v(r):\n",
    "    v=np.zeros(9)\n",
    "    v[0]=10         #cm\n",
    "    v[1]=9.8        #cm\n",
    "    v[2]=9.6\n",
    "    v[3]=9.3\n",
    "    v[4]=9.06\n",
    "    v[5]=8.68\n",
    "    v[6]=8.18\n",
    "    v[7]=7.41\n",
    "    v[8]=0\n",
    "    return v[r] # r的单位是cm，返回的单位是m/s"
   ],
   "outputs": [],
   "execution_count": 2
  },
  {
   "cell_type": "code",
   "metadata": {
    "ExecuteTime": {
     "end_time": "2025-01-01T07:58:58.308271Z",
     "start_time": "2025-01-01T07:58:58.294270Z"
    }
   },
   "source": [
    "def f(r):\n",
    "    rho=1.2         #kg/m^3\n",
    "    y=rho*2*np.pi*r*v(int(r*100)) \n",
    "    return y"
   ],
   "outputs": [],
   "execution_count": 3
  },
  {
   "cell_type": "code",
   "metadata": {
    "ExecuteTime": {
     "end_time": "2025-01-01T07:58:58.338277Z",
     "start_time": "2025-01-01T07:58:58.324270Z"
    }
   },
   "source": [
    "a=0\n",
    "b=0.08\n",
    "n=8\n",
    "h=(b-a)/n\n",
    "sum=0\n",
    "sumeven=0\n",
    "sumodd=0\n",
    "for i in range(1,n):\n",
    "    sum+=f(a+i*h)\n",
    "InteT=h/2*(f(a)+2*sum+f(b))\n",
    "\n",
    "for i in range (1,n):\n",
    "    if i%2==0:\n",
    "        sumeven+=f(a+i*h)\n",
    "    else:\n",
    "        sumodd+=f(a+i*h)\n",
    "InterS=h/3*(f(a)+2*sumeven+4*sumodd+f(b))\n",
    "print(\"Composite Trapezoidal Rule=\",InteT,\"kg/s\")\n",
    "print(\"Composite Simpson Rule=\",InterS,\"kg/s\")\n"
   ],
   "outputs": [
    {
     "name": "stdout",
     "output_type": "stream",
     "text": [
      "Composite Trapezoidal Rule= 0.1790632414322496 kg/s\n",
      "Composite Simpson Rule= 0.18621350631182 kg/s\n"
     ]
    }
   ],
   "execution_count": 4
  },
  {
   "cell_type": "markdown",
   "metadata": {},
   "source": [
    "Composite Simpson Rule is more accurate because the remainder term is $o(h^4)$ while the trapezoidal's is $o(h^2)$."
   ]
  }
 ],
 "metadata": {
  "kernelspec": {
   "display_name": "py39",
   "language": "python",
   "name": "python3"
  },
  "language_info": {
   "codemirror_mode": {
    "name": "ipython",
    "version": 3
   },
   "file_extension": ".py",
   "mimetype": "text/x-python",
   "name": "python",
   "nbconvert_exporter": "python",
   "pygments_lexer": "ipython3",
   "version": "3.9.20"
  }
 },
 "nbformat": 4,
 "nbformat_minor": 2
}
